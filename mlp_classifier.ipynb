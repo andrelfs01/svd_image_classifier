{
 "cells": [
  {
   "cell_type": "code",
   "execution_count": 1,
   "metadata": {},
   "outputs": [],
   "source": [
    "import numpy as np\n",
    "import os\n",
    "import cv2\n",
    "import random\n",
    "from scipy.linalg import eigh\n",
    "import timeit\n",
    "import matplotlib.pyplot as plt\n",
    "from sklearn.model_selection import train_test_split"
   ]
  },
  {
   "cell_type": "code",
   "execution_count": 25,
   "metadata": {},
   "outputs": [
    {
     "name": "stdout",
     "output_type": "stream",
     "text": [
      "0\n",
      "20\n",
      "40\n",
      "60\n",
      "80\n",
      "Dimensões da matriz de dados: (90, 385000)\n"
     ]
    }
   ],
   "source": [
    "# working directory:\n",
    "path = os.path.abspath('C:\\\\Users\\\\Andre\\\\projetos\\\\svd_image_classifier\\\\sub_dataset')\n",
    "dirs = os.listdir(path)\n",
    "count_img_class = 120 # quantidade \n",
    "m = 550 * 700 # as imagens têm 550 * 700 pixels (Altura * Largura)\n",
    "X = np.zeros(m) # uma linha de zeros\n",
    "y = [] # lista de classes\n",
    "img_id = [] # lista de identidade das imagens\n",
    "d = 0\n",
    "count = 0\n",
    "for d in dirs:\n",
    "    wd = os.path.join(path,d)\n",
    "    for _, _, files in os.walk(wd):\n",
    "        for f in files:\n",
    "            if (count % 20 == 0):\n",
    "                print (count)\n",
    "            img = cv2.imread(os.path.join(wd,f), cv2.IMREAD_GRAYSCALE) / 255.0 \n",
    "            X = np.vstack((X,np.reshape(img,(1,m),order='F')))\n",
    "            y.append(d)\n",
    "            img_id.append(d+'-img'+f[:-4])\n",
    "            count += 1\n",
    "X = np.delete(X, 0, 0) # remove a primeira linha de zeros\n",
    "print('Dimensões da matriz de dados:', np.shape(X))"
   ]
  },
  {
   "cell_type": "code",
   "execution_count": null,
   "metadata": {},
   "outputs": [],
   "source": []
  },
  {
   "cell_type": "code",
   "execution_count": 30,
   "metadata": {},
   "outputs": [
    {
     "name": "stdout",
     "output_type": "stream",
     "text": [
      "Dimensões de Xtest = (32, 385000) Dimensão de ytest = (32,)\n",
      "Dimensões de Xtrain = (58, 385000) DImensão de ytrain = (58,)\n"
     ]
    }
   ],
   "source": [
    "# 30% das imagens para teste\n",
    "\n",
    "#pegar 30% de cada classe pra teste e o restante pra treino\n",
    "X_train, X_test, y_train, y_test = train_test_split(X, y, test_size=0.35, random_state=72)\n",
    "\n",
    "print('Dimensões de Xtest =', np.shape(X_test),'Dimensão de ytest =', np.shape(y_test))\n",
    "print('Dimensões de Xtrain =', np.shape(X_train),'DImensão de ytrain =', np.shape(y_train))"
   ]
  },
  {
   "cell_type": "code",
   "execution_count": 31,
   "metadata": {},
   "outputs": [
    {
     "data": {
      "text/plain": [
       "{'medio': 10, 'alto': 14, 'baixo': 8}"
      ]
     },
     "execution_count": 31,
     "metadata": {},
     "output_type": "execute_result"
    }
   ],
   "source": [
    "\n",
    "from collections import Counter\n",
    "\n",
    "a = dict(Counter(y_test))\n",
    "a"
   ]
  },
  {
   "cell_type": "code",
   "execution_count": null,
   "metadata": {},
   "outputs": [],
   "source": [
    "from  sklearn.neural_network import MLPClassifier\n",
    "clf = MLPClassifier(solver='lbfgs', alpha=1e-5,\n",
    "                     hidden_layer_sizes=(25,), random_state=1)\n",
    "#solver='lbfgs',\n",
    "clf.fit(X_train, y_train)\n",
    "\n",
    "\n"
   ]
  },
  {
   "cell_type": "code",
   "execution_count": null,
   "metadata": {},
   "outputs": [],
   "source": [
    "print(\"Training set score: %f\" % clf.score(X_train, y_train))\n",
    "print(\"Test set score: %f\" % clf.score(X_test, y_test))"
   ]
  },
  {
   "cell_type": "code",
   "execution_count": null,
   "metadata": {},
   "outputs": [],
   "source": []
  }
 ],
 "metadata": {
  "kernelspec": {
   "display_name": "Python 3",
   "language": "python",
   "name": "python3"
  },
  "language_info": {
   "codemirror_mode": {
    "name": "ipython",
    "version": 3
   },
   "file_extension": ".py",
   "mimetype": "text/x-python",
   "name": "python",
   "nbconvert_exporter": "python",
   "pygments_lexer": "ipython3",
   "version": "3.8.3"
  }
 },
 "nbformat": 4,
 "nbformat_minor": 4
}
