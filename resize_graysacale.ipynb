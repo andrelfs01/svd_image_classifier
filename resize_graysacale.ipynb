{
 "cells": [
  {
   "cell_type": "code",
   "execution_count": 4,
   "metadata": {},
   "outputs": [
    {
     "name": "stdout",
     "output_type": "stream",
     "text": [
      "Original Dimensions :  (3888, 5184, 3)\n",
      "Resized Dimensions :  (550, 700, 3)\n"
     ]
    },
    {
     "data": {
      "text/plain": [
       "True"
      ]
     },
     "execution_count": 4,
     "metadata": {},
     "output_type": "execute_result"
    }
   ],
   "source": [
    "import cv2\n",
    " \n",
    "img = cv2.imread('/home/cadic/projetos-cadic/teste-postes.jpeg', cv2.IMREAD_UNCHANGED)\n",
    " \n",
    "print('Original Dimensions : ',img.shape)\n",
    " \n",
    "scale_percent = 15 # percent of original size\n",
    "width = int(700)\n",
    "height = int(550)\n",
    "dim = (width, height)\n",
    "# resize image\n",
    "resized = cv2.resize(img, dim, interpolation = cv2.INTER_AREA)\n",
    "grayImage = cv2.cvtColor(resized, cv2.COLOR_BGR2GRAY)\n",
    " \n",
    "print('Resized Dimensions : ',resized.shape)\n",
    "cv2.imwrite('/home/cadic/projetos-cadic/saida-teste-postes.jpeg', grayImage, [cv2.IMWRITE_JPEG_QUALITY, 100])\n",
    "#cv2.imshow(\"Resized image\", resized)\n",
    "#cv2.waitKey(0)\n",
    "#cv2.destroyAllWindows()"
   ]
  },
  {
   "cell_type": "code",
   "execution_count": null,
   "metadata": {},
   "outputs": [],
   "source": []
  }
 ],
 "metadata": {
  "kernelspec": {
   "display_name": "Python 3",
   "language": "python",
   "name": "python3"
  },
  "language_info": {
   "codemirror_mode": {
    "name": "ipython",
    "version": 3
   },
   "file_extension": ".py",
   "mimetype": "text/x-python",
   "name": "python",
   "nbconvert_exporter": "python",
   "pygments_lexer": "ipython3",
   "version": "3.6.9"
  }
 },
 "nbformat": 4,
 "nbformat_minor": 2
}
